{
 "cells": [
  {
   "cell_type": "code",
   "execution_count": 2,
   "metadata": {},
   "outputs": [],
   "source": [
    "import pandas as pd\n",
    "\n",
    "columns = pd.read_csv('unb_phishtank.csv')"
   ]
  },
  {
   "cell_type": "code",
   "execution_count": 3,
   "metadata": {},
   "outputs": [],
   "source": [
    "necessary_num = ['url_length', 'max_token_length', 'domain_length', 'no_of_dots', 'no_of_qms', 'no_of_fs','no_of_digits', 'no_of_specials','num_tempting', \n",
    "                 'no_of_tokens', 'no_of_top_lvl_domains','no_of_schar_domain', 'no_of_schar_path', 'no_of_url_paths', 'no_of_punctuations', 'no_of_hypen',\n",
    "                 'no_of_eqs', 'no_of_us', 'no_of_repetition', 'len_shortest_token', 'avg_len_token','len_query','ratio_url_path','ratio_vowel_consonant',\n",
    "                 'ratio_digits_letters', 'std_token_len']\n",
    "necessary_cat = ['has_exe', 'has_install', 'has_com', 'has_php', 'has_gov', 'has_org','has_edu', 'has_https', 'has_htm', 'has_html', 'has_net', 'has_info',\n",
    "                 'has_js','has_port', 'has_shorten']"
   ]
  },
  {
   "cell_type": "code",
   "execution_count": 4,
   "metadata": {},
   "outputs": [],
   "source": [
    "from sklearn import preprocessing\n",
    " \n",
    "# label_encoder object knows how to understand word labels.\n",
    "label_encoders = [preprocessing.LabelEncoder() for i in range(len(necessary_cat))]\n",
    "\n",
    "for i,cat_val in enumerate(necessary_cat):\n",
    "    columns[cat_val] = label_encoders[i].fit_transform(columns[cat_val])"
   ]
  },
  {
   "cell_type": "code",
   "execution_count": 7,
   "metadata": {},
   "outputs": [],
   "source": [
    "import numpy as np\n",
    "from sklearn.utils import shuffle\n",
    "from sklearn.model_selection import train_test_split\n",
    "import time\n",
    "\n",
    "data_final_vars=columns.columns.values.tolist()\n",
    "y1=['label']\n",
    "X1= ['has_php', 'has_https', 'has_htm', 'has_html', 'has_net', 'has_shorten', 'url_length', 'domain_length', 'no_of_fs', 'no_of_specials',\n",
    "     'no_of_schar_domain', 'no_of_schar_path', 'no_of_url_paths', 'no_of_punctuations', 'no_of_hypen', 'no_of_repetition', 'len_shortest_token',\n",
    "     'avg_len_token', 'ratio_vowel_consonant', 'std_token_len']\n",
    "\n",
    "data = columns[X1+y1]\n",
    "data = shuffle(data)\n",
    "data = shuffle(data)\n",
    "\n",
    "train, test = train_test_split(data,test_size=0.1)\n"
   ]
  },
  {
   "cell_type": "code",
   "execution_count": 8,
   "metadata": {},
   "outputs": [
    {
     "name": "stdout",
     "output_type": "stream",
     "text": [
      "(19789, 20) (19789, 1)\n"
     ]
    }
   ],
   "source": [
    "X = train[X1]\n",
    "Y = train[y1]\n",
    "\n",
    "print(X.shape,Y.shape)"
   ]
  },
  {
   "cell_type": "code",
   "execution_count": 9,
   "metadata": {},
   "outputs": [
    {
     "name": "stderr",
     "output_type": "stream",
     "text": [
      "E:\\Softwares\\Conda\\lib\\site-packages\\sklearn\\preprocessing\\_label.py:115: DataConversionWarning: A column-vector y was passed when a 1d array was expected. Please change the shape of y to (n_samples, ), for example using ravel().\n",
      "  y = column_or_1d(y, warn=True)\n"
     ]
    }
   ],
   "source": [
    "from sklearn.metrics import accuracy_score, recall_score, f1_score, make_scorer, precision_score\n",
    "from sklearn.model_selection import KFold, cross_validate\n",
    "from sklearn.preprocessing import LabelEncoder\n",
    "\n",
    "labelencode = LabelEncoder()\n",
    "Y = labelencode.fit_transform(Y)\n",
    "\n",
    "scoring = {'accuracy': make_scorer(accuracy_score), 'f1_score':make_scorer(f1_score), 'precision':make_scorer(precision_score), 'recall':make_scorer(recall_score)}\n",
    "kfold = KFold(n_splits=5, shuffle=True)"
   ]
  },
  {
   "cell_type": "markdown",
   "metadata": {},
   "source": [
    "KNN"
   ]
  },
  {
   "cell_type": "code",
   "execution_count": 10,
   "metadata": {},
   "outputs": [
    {
     "name": "stdout",
     "output_type": "stream",
     "text": [
      "fit_time 0.010173797607421875\n",
      "score_time 1.7478219985961914\n",
      "test_accuracy 0.9805952136043569\n",
      "test_f1_score 0.980410179422244\n",
      "test_precision 0.9891058996294626\n",
      "test_recall 0.9718739518706642\n"
     ]
    }
   ],
   "source": [
    "from sklearn import neighbors\n",
    "\n",
    "classifier = neighbors.KNeighborsClassifier(weights='distance')\n",
    "\n",
    "kfold = KFold(n_splits=5, shuffle=True)\n",
    "results = cross_validate(estimator=classifier, X=X, y=Y, scoring= scoring, cv=kfold)\n",
    "for i,j in results.items():\n",
    "  print(i,np.average(j))"
   ]
  },
  {
   "cell_type": "markdown",
   "metadata": {},
   "source": [
    "Decision Tree"
   ]
  },
  {
   "cell_type": "code",
   "execution_count": 11,
   "metadata": {},
   "outputs": [
    {
     "name": "stdout",
     "output_type": "stream",
     "text": [
      "fit_time 0.08838014602661133\n",
      "score_time 0.009772872924804688\n",
      "test_accuracy 0.9859517733778596\n",
      "test_f1_score 0.9859389077903804\n",
      "test_precision 0.9860442351273019\n",
      "test_recall 0.9858368834403477\n"
     ]
    }
   ],
   "source": [
    "from sklearn import tree\n",
    "\n",
    "classifier = tree.DecisionTreeClassifier()\n",
    "\n",
    "results = cross_validate(estimator=classifier, X=X, y=Y, scoring= scoring, cv=kfold)\n",
    "for i,j in results.items():\n",
    "  print(i,np.average(j))"
   ]
  },
  {
   "cell_type": "code",
   "execution_count": 12,
   "metadata": {},
   "outputs": [
    {
     "name": "stdout",
     "output_type": "stream",
     "text": [
      "fit_time 0.07803912162780761\n",
      "score_time 0.007977819442749024\n",
      "test_accuracy 0.9860021379399029\n",
      "test_f1_score 0.9859887946079743\n",
      "test_precision 0.9870423074405421\n",
      "test_recall 0.9849394694025104\n"
     ]
    }
   ],
   "source": [
    "classifier = tree.DecisionTreeClassifier(criterion='entropy')\n",
    "\n",
    "\n",
    "results = cross_validate(estimator=classifier, X=X, y=Y, scoring= scoring, cv=kfold)\n",
    "for i,j in results.items():\n",
    "  print(i,np.average(j))"
   ]
  },
  {
   "cell_type": "markdown",
   "metadata": {},
   "source": [
    "Random Forest"
   ]
  },
  {
   "cell_type": "code",
   "execution_count": 13,
   "metadata": {},
   "outputs": [
    {
     "name": "stdout",
     "output_type": "stream",
     "text": [
      "fit_time 1.3788980960845947\n",
      "score_time 0.053354501724243164\n",
      "test_accuracy 0.9927738729492626\n",
      "test_f1_score 0.9927474775856439\n",
      "test_precision 0.994304908845343\n",
      "test_recall 0.9911980501009218\n"
     ]
    }
   ],
   "source": [
    "from sklearn.ensemble import RandomForestClassifier\n",
    "\n",
    "classifier = RandomForestClassifier()\n",
    "\n",
    "results = cross_validate(estimator=classifier, X=X, y=Y, scoring= scoring, cv=kfold)\n",
    "for i,j in results.items():\n",
    "  print(i,np.average(j))"
   ]
  },
  {
   "cell_type": "markdown",
   "metadata": {},
   "source": [
    "SVM"
   ]
  },
  {
   "cell_type": "code",
   "execution_count": 14,
   "metadata": {},
   "outputs": [
    {
     "name": "stdout",
     "output_type": "stream",
     "text": [
      "fit_time 4.646515321731568\n",
      "score_time 2.187245082855225\n",
      "test_accuracy 0.9420894371951741\n",
      "test_f1_score 0.9402563610476189\n",
      "test_precision 0.9705080275462894\n",
      "test_recall 0.9118919267492759\n"
     ]
    }
   ],
   "source": [
    "from sklearn import svm\n",
    "\n",
    "classifier = svm.SVC()\n",
    "\n",
    "results = cross_validate(estimator=classifier, X=X, y=Y, scoring= scoring, cv=kfold)\n",
    "for i,j in results.items():\n",
    "  print(i,np.average(j))"
   ]
  },
  {
   "cell_type": "markdown",
   "metadata": {},
   "source": [
    "Naive Bayes"
   ]
  },
  {
   "cell_type": "code",
   "execution_count": 15,
   "metadata": {},
   "outputs": [
    {
     "name": "stdout",
     "output_type": "stream",
     "text": [
      "fit_time 0.02721710205078125\n",
      "score_time 0.021538972854614258\n",
      "test_accuracy 0.905604347289195\n",
      "test_f1_score 0.8984346009975901\n",
      "test_precision 0.9724551196025988\n",
      "test_recall 0.8349203429323968\n"
     ]
    }
   ],
   "source": [
    "from sklearn import naive_bayes\n",
    "\n",
    "classifier = naive_bayes.GaussianNB()\n",
    "\n",
    "results = cross_validate(estimator=classifier, X=X, y=Y, scoring= scoring, cv=kfold)\n",
    "for i,j in results.items():\n",
    "  print(i,np.average(j))"
   ]
  }
 ],
 "metadata": {
  "interpreter": {
   "hash": "f3b730a9d7272a4f898f107daded6fab7115ce50b35b786d03fa41c7f88ce0f1"
  },
  "kernelspec": {
   "display_name": "Python 3.8.8 64-bit ('base': conda)",
   "language": "python",
   "name": "python3"
  },
  "language_info": {
   "codemirror_mode": {
    "name": "ipython",
    "version": 3
   },
   "file_extension": ".py",
   "mimetype": "text/x-python",
   "name": "python",
   "nbconvert_exporter": "python",
   "pygments_lexer": "ipython3",
   "version": "3.8.8"
  },
  "orig_nbformat": 4
 },
 "nbformat": 4,
 "nbformat_minor": 2
}
