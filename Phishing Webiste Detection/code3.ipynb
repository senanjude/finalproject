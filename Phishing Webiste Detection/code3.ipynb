{
 "cells": [
  {
   "cell_type": "code",
   "execution_count": 1,
   "metadata": {},
   "outputs": [],
   "source": [
    "import pandas as pd\n",
    "\n",
    "columns = pd.read_csv('latest.csv')"
   ]
  },
  {
   "cell_type": "code",
   "execution_count": 2,
   "metadata": {},
   "outputs": [],
   "source": [
    "necessary_cat = ['has_php','has_htm', 'has_html', 'has_net', 'has_shorten']"
   ]
  },
  {
   "cell_type": "code",
   "execution_count": 3,
   "metadata": {},
   "outputs": [],
   "source": [
    "from sklearn import preprocessing\n",
    " \n",
    "label_encoders = [preprocessing.LabelEncoder() for i in range(len(necessary_cat))]\n",
    "\n",
    "for i,cat_val in enumerate(necessary_cat):\n",
    "    columns[cat_val] = label_encoders[i].fit_transform(columns[cat_val])"
   ]
  },
  {
   "cell_type": "code",
   "execution_count": 2,
   "metadata": {},
   "outputs": [],
   "source": [
    "import numpy as np\n",
    "from sklearn.utils import shuffle\n",
    "from sklearn.model_selection import train_test_split\n",
    "import time\n",
    "\n",
    "data_final_vars=columns.columns.values.tolist()\n",
    "y1=['label']\n",
    "X1= ['has_php', 'has_htm', 'has_html', 'has_net', 'has_shorten', 'url_length', 'domain_length', 'no_of_fs', 'no_of_specials',\n",
    "     'no_of_schar_domain', 'no_of_schar_path', 'no_of_url_paths', 'no_of_punctuations', 'no_of_hypen', 'no_of_repetition', 'len_shortest_token',\n",
    "     'avg_len_token', 'ratio_vowel_consonant', 'std_token_len']\n",
    "\n",
    "data = columns[X1+y1]\n",
    "\n",
    "data = shuffle(data, random_state=int(time.time()))\n",
    "data = shuffle(data, random_state=int(time.time()))\n",
    "\n",
    "train, test = train_test_split(data,test_size=0.1)\n"
   ]
  },
  {
   "cell_type": "code",
   "execution_count": 5,
   "metadata": {},
   "outputs": [
    {
     "data": {
      "text/html": [
       "<div>\n",
       "<style scoped>\n",
       "    .dataframe tbody tr th:only-of-type {\n",
       "        vertical-align: middle;\n",
       "    }\n",
       "\n",
       "    .dataframe tbody tr th {\n",
       "        vertical-align: top;\n",
       "    }\n",
       "\n",
       "    .dataframe thead th {\n",
       "        text-align: right;\n",
       "    }\n",
       "</style>\n",
       "<table border=\"1\" class=\"dataframe\">\n",
       "  <thead>\n",
       "    <tr style=\"text-align: right;\">\n",
       "      <th></th>\n",
       "      <th>url</th>\n",
       "      <th>url_length</th>\n",
       "      <th>domain_length</th>\n",
       "      <th>no_of_fs</th>\n",
       "      <th>no_of_specials</th>\n",
       "      <th>has_php</th>\n",
       "      <th>has_htm</th>\n",
       "      <th>has_html</th>\n",
       "      <th>has_net</th>\n",
       "      <th>no_of_tokens</th>\n",
       "      <th>...</th>\n",
       "      <th>no_of_url_paths</th>\n",
       "      <th>no_of_punctuations</th>\n",
       "      <th>no_of_hypen</th>\n",
       "      <th>no_of_repetition</th>\n",
       "      <th>len_shortest_token</th>\n",
       "      <th>avg_len_token</th>\n",
       "      <th>has_shorten</th>\n",
       "      <th>ratio_vowel_consonant</th>\n",
       "      <th>std_token_len</th>\n",
       "      <th>label</th>\n",
       "    </tr>\n",
       "  </thead>\n",
       "  <tbody>\n",
       "    <tr>\n",
       "      <th>0</th>\n",
       "      <td>https://www.facebook.com</td>\n",
       "      <td>24</td>\n",
       "      <td>8</td>\n",
       "      <td>2</td>\n",
       "      <td>5</td>\n",
       "      <td>0</td>\n",
       "      <td>0</td>\n",
       "      <td>0</td>\n",
       "      <td>0</td>\n",
       "      <td>4</td>\n",
       "      <td>...</td>\n",
       "      <td>0</td>\n",
       "      <td>5</td>\n",
       "      <td>0</td>\n",
       "      <td>6</td>\n",
       "      <td>3</td>\n",
       "      <td>4.75</td>\n",
       "      <td>0</td>\n",
       "      <td>0.357143</td>\n",
       "      <td>2.046338</td>\n",
       "      <td>benign</td>\n",
       "    </tr>\n",
       "    <tr>\n",
       "      <th>1</th>\n",
       "      <td>https://www.fonts.googleapis.com</td>\n",
       "      <td>32</td>\n",
       "      <td>5</td>\n",
       "      <td>2</td>\n",
       "      <td>6</td>\n",
       "      <td>0</td>\n",
       "      <td>0</td>\n",
       "      <td>0</td>\n",
       "      <td>0</td>\n",
       "      <td>5</td>\n",
       "      <td>...</td>\n",
       "      <td>0</td>\n",
       "      <td>6</td>\n",
       "      <td>0</td>\n",
       "      <td>8</td>\n",
       "      <td>3</td>\n",
       "      <td>5.20</td>\n",
       "      <td>0</td>\n",
       "      <td>0.368421</td>\n",
       "      <td>2.561250</td>\n",
       "      <td>benign</td>\n",
       "    </tr>\n",
       "    <tr>\n",
       "      <th>2</th>\n",
       "      <td>https://www.google.com</td>\n",
       "      <td>22</td>\n",
       "      <td>6</td>\n",
       "      <td>2</td>\n",
       "      <td>5</td>\n",
       "      <td>0</td>\n",
       "      <td>0</td>\n",
       "      <td>0</td>\n",
       "      <td>0</td>\n",
       "      <td>4</td>\n",
       "      <td>...</td>\n",
       "      <td>0</td>\n",
       "      <td>5</td>\n",
       "      <td>0</td>\n",
       "      <td>6</td>\n",
       "      <td>3</td>\n",
       "      <td>4.25</td>\n",
       "      <td>0</td>\n",
       "      <td>0.307692</td>\n",
       "      <td>1.299038</td>\n",
       "      <td>benign</td>\n",
       "    </tr>\n",
       "    <tr>\n",
       "      <th>3</th>\n",
       "      <td>https://www.twitter.com</td>\n",
       "      <td>23</td>\n",
       "      <td>7</td>\n",
       "      <td>2</td>\n",
       "      <td>5</td>\n",
       "      <td>0</td>\n",
       "      <td>0</td>\n",
       "      <td>0</td>\n",
       "      <td>0</td>\n",
       "      <td>4</td>\n",
       "      <td>...</td>\n",
       "      <td>0</td>\n",
       "      <td>5</td>\n",
       "      <td>0</td>\n",
       "      <td>4</td>\n",
       "      <td>3</td>\n",
       "      <td>4.50</td>\n",
       "      <td>0</td>\n",
       "      <td>0.200000</td>\n",
       "      <td>1.658312</td>\n",
       "      <td>benign</td>\n",
       "    </tr>\n",
       "    <tr>\n",
       "      <th>4</th>\n",
       "      <td>https://www.youtube.com</td>\n",
       "      <td>23</td>\n",
       "      <td>7</td>\n",
       "      <td>2</td>\n",
       "      <td>5</td>\n",
       "      <td>0</td>\n",
       "      <td>0</td>\n",
       "      <td>0</td>\n",
       "      <td>0</td>\n",
       "      <td>4</td>\n",
       "      <td>...</td>\n",
       "      <td>0</td>\n",
       "      <td>5</td>\n",
       "      <td>0</td>\n",
       "      <td>6</td>\n",
       "      <td>3</td>\n",
       "      <td>4.50</td>\n",
       "      <td>0</td>\n",
       "      <td>0.384615</td>\n",
       "      <td>1.658312</td>\n",
       "      <td>benign</td>\n",
       "    </tr>\n",
       "  </tbody>\n",
       "</table>\n",
       "<p>5 rows × 22 columns</p>\n",
       "</div>"
      ],
      "text/plain": [
       "                                url  url_length  domain_length  no_of_fs  \\\n",
       "0          https://www.facebook.com          24              8         2   \n",
       "1  https://www.fonts.googleapis.com          32              5         2   \n",
       "2            https://www.google.com          22              6         2   \n",
       "3           https://www.twitter.com          23              7         2   \n",
       "4           https://www.youtube.com          23              7         2   \n",
       "\n",
       "   no_of_specials  has_php  has_htm  has_html  has_net  no_of_tokens  ...  \\\n",
       "0               5        0        0         0        0             4  ...   \n",
       "1               6        0        0         0        0             5  ...   \n",
       "2               5        0        0         0        0             4  ...   \n",
       "3               5        0        0         0        0             4  ...   \n",
       "4               5        0        0         0        0             4  ...   \n",
       "\n",
       "   no_of_url_paths  no_of_punctuations  no_of_hypen  no_of_repetition  \\\n",
       "0                0                   5            0                 6   \n",
       "1                0                   6            0                 8   \n",
       "2                0                   5            0                 6   \n",
       "3                0                   5            0                 4   \n",
       "4                0                   5            0                 6   \n",
       "\n",
       "   len_shortest_token  avg_len_token  has_shorten  ratio_vowel_consonant  \\\n",
       "0                   3           4.75            0               0.357143   \n",
       "1                   3           5.20            0               0.368421   \n",
       "2                   3           4.25            0               0.307692   \n",
       "3                   3           4.50            0               0.200000   \n",
       "4                   3           4.50            0               0.384615   \n",
       "\n",
       "   std_token_len   label  \n",
       "0       2.046338  benign  \n",
       "1       2.561250  benign  \n",
       "2       1.299038  benign  \n",
       "3       1.658312  benign  \n",
       "4       1.658312  benign  \n",
       "\n",
       "[5 rows x 22 columns]"
      ]
     },
     "execution_count": 5,
     "metadata": {},
     "output_type": "execute_result"
    }
   ],
   "source": [
    "columns.head()"
   ]
  },
  {
   "cell_type": "code",
   "execution_count": 3,
   "metadata": {},
   "outputs": [
    {
     "name": "stdout",
     "output_type": "stream",
     "text": [
      "(109789, 19) (109789, 1)\n"
     ]
    }
   ],
   "source": [
    "X = train[X1]\n",
    "Y = train[y1]\n",
    "\n",
    "print(X.shape,Y.shape)"
   ]
  },
  {
   "cell_type": "code",
   "execution_count": 4,
   "metadata": {},
   "outputs": [],
   "source": [
    "from sklearn.metrics import accuracy_score, recall_score, f1_score, make_scorer, precision_score\n",
    "from sklearn.model_selection import KFold, cross_validate\n",
    "from sklearn.preprocessing import LabelEncoder\n",
    "\n",
    "# labelencode = LabelEncoder()\n",
    "# Y = labelencode.fit_transform(Y)\n",
    "\n",
    "scoring = {'accuracy': make_scorer(accuracy_score), 'f1_score':make_scorer(f1_score), 'precision':make_scorer(precision_score), 'recall':make_scorer(recall_score)}\n",
    "kfold = KFold(n_splits=5, shuffle=True)"
   ]
  },
  {
   "cell_type": "markdown",
   "metadata": {},
   "source": [
    "KNN"
   ]
  },
  {
   "cell_type": "code",
   "execution_count": 17,
   "metadata": {},
   "outputs": [
    {
     "name": "stderr",
     "output_type": "stream",
     "text": [
      "E:\\Softwares\\Conda\\lib\\site-packages\\sklearn\\neighbors\\_classification.py:198: DataConversionWarning: A column-vector y was passed when a 1d array was expected. Please change the shape of y to (n_samples,), for example using ravel().\n",
      "  return self._fit(X, y)\n"
     ]
    },
    {
     "name": "stdout",
     "output_type": "stream",
     "text": [
      "0.9918845807033363 0.9918925558922284 0.9868013687469448 0.9970365492262101\n"
     ]
    }
   ],
   "source": [
    "from sklearn import neighbors\n",
    "\n",
    "classifier = neighbors.KNeighborsClassifier(weights='distance')\n",
    "classifier.fit(X, Y)\n",
    "\n",
    "x = test[X1]\n",
    "y = test[y1]\n",
    "out = classifier.predict(x)\n",
    "\n",
    "knn_acc = accuracy_score(y,out)\n",
    "knn_recall = recall_score(y,out,pos_label='malicious')\n",
    "knn_f1 = f1_score(y,out,pos_label='malicious')\n",
    "knn_press = precision_score(y,out,pos_label='malicious')\n",
    "print(knn_acc, knn_f1, knn_recall, knn_press)\n",
    "\n",
    "# results = cross_validate(estimator=classifier, X=X, y=Y, scoring= scoring, cv=kfold)\n",
    "# for i,j in results.items():\n",
    "#   print(i,np.average(j))\n",
    "\n",
    "# 41s"
   ]
  },
  {
   "cell_type": "code",
   "execution_count": 19,
   "metadata": {},
   "outputs": [
    {
     "name": "stderr",
     "output_type": "stream",
     "text": [
      "E:\\Softwares\\Conda\\lib\\site-packages\\sklearn\\neighbors\\_classification.py:198: DataConversionWarning: A column-vector y was passed when a 1d array was expected. Please change the shape of y to (n_samples,), for example using ravel().\n",
      "  return self._fit(X, y)\n"
     ]
    },
    {
     "name": "stdout",
     "output_type": "stream",
     "text": [
      "0.9908189195835724 0.9907084785133565 0.9861271676300578 0.9953325554259043\n"
     ]
    }
   ],
   "source": [
    "classifier.fit(X, Y)\n",
    "\n",
    "x = test[X1]\n",
    "y = test[y1]\n",
    "out = classifier.predict(x)\n",
    "\n",
    "knn_acc = accuracy_score(y,out)\n",
    "knn_recall = recall_score(y,out,pos_label='malicious')\n",
    "knn_f1 = f1_score(y,out,pos_label='malicious')\n",
    "knn_press = precision_score(y,out,pos_label='malicious')\n",
    "print(knn_acc, knn_f1, knn_recall, knn_press)"
   ]
  },
  {
   "cell_type": "markdown",
   "metadata": {},
   "source": [
    "Decision Tree"
   ]
  },
  {
   "cell_type": "code",
   "execution_count": 82,
   "metadata": {},
   "outputs": [
    {
     "name": "stdout",
     "output_type": "stream",
     "text": [
      "0.9954914337240758 0.9954413593037713 0.9950289975144988 0.9958540630182421\n"
     ]
    }
   ],
   "source": [
    "from sklearn import tree\n",
    "\n",
    "classifier = tree.DecisionTreeClassifier()\n",
    "classifier.fit(X, Y)\n",
    "\n",
    "x = test[X1]\n",
    "y = test[y1]\n",
    "out = classifier.predict(x)\n",
    "\n",
    "dt1_acc = accuracy_score(y,out)\n",
    "dt1_recall = recall_score(y,out,pos_label='malicious')\n",
    "dt1_f1 = f1_score(y,out,pos_label='malicious')\n",
    "dt1_press = precision_score(y,out,pos_label='malicious')\n",
    "print(dt1_acc, dt1_f1, dt1_recall, dt1_press)\n",
    "\n",
    "# results = cross_validate(estimator=classifier, X=X, y=Y, scoring= scoring, cv=kfold)\n",
    "# for i,j in results.items():\n",
    "#   print(i,np.average(j))\n",
    "\n",
    "# 3s"
   ]
  },
  {
   "cell_type": "code",
   "execution_count": 46,
   "metadata": {},
   "outputs": [
    {
     "name": "stdout",
     "output_type": "stream",
     "text": [
      "0.996311173046971 0.9963630485735069 0.9967658473479948 0.9959605752140895\n"
     ]
    }
   ],
   "source": [
    "classifier.fit(X, Y)\n",
    "\n",
    "x = test[X1]\n",
    "y = test[y1]\n",
    "out = classifier.predict(x)\n",
    "\n",
    "dt1_acc = accuracy_score(y,out)\n",
    "dt1_recall = recall_score(y,out,pos_label='malicious')\n",
    "dt1_f1 = f1_score(y,out,pos_label='malicious')\n",
    "dt1_press = precision_score(y,out,pos_label='malicious')\n",
    "print(dt1_acc, dt1_f1, dt1_recall, dt1_press)"
   ]
  },
  {
   "cell_type": "code",
   "execution_count": 108,
   "metadata": {},
   "outputs": [
    {
     "name": "stdout",
     "output_type": "stream",
     "text": [
      "0.996311173046971 0.9963081466896382 0.9949205308864493 0.9976996385146237\n"
     ]
    }
   ],
   "source": [
    "classifier = tree.DecisionTreeClassifier(criterion='entropy')\n",
    "classifier.fit(X, Y)\n",
    "\n",
    "x = test[X1]\n",
    "y = test[y1]\n",
    "out = classifier.predict(x)\n",
    "\n",
    "dt2_acc = accuracy_score(y,out)\n",
    "dt2_recall = recall_score(y,out,pos_label='malicious')\n",
    "dt2_f1 = f1_score(y,out,pos_label='malicious')\n",
    "dt2_press = precision_score(y,out,pos_label='malicious')\n",
    "print(dt2_acc, dt2_f1, dt2_recall, dt2_press)\n",
    "\n",
    "# results = cross_validate(estimator=classifier, X=X, y=Y, scoring= scoring, cv=kfold)\n",
    "# for i,j in results.items():\n",
    "#   print(i,np.average(j))\n",
    "\n",
    "# 2s"
   ]
  },
  {
   "cell_type": "code",
   "execution_count": 131,
   "metadata": {},
   "outputs": [
    {
     "name": "stdout",
     "output_type": "stream",
     "text": [
      "0.9958193294532339 0.9957644713894195 0.9946905591504894 0.9968407050216163\n"
     ]
    }
   ],
   "source": [
    "classifier.fit(X, Y)\n",
    "\n",
    "x = test[X1]\n",
    "y = test[y1]\n",
    "out = classifier.predict(x)\n",
    "\n",
    "dt2_acc = accuracy_score(y,out)\n",
    "dt2_recall = recall_score(y,out,pos_label='malicious')\n",
    "dt2_f1 = f1_score(y,out,pos_label='malicious')\n",
    "dt2_press = precision_score(y,out,pos_label='malicious')\n",
    "print(dt2_acc, dt2_f1, dt2_recall, dt2_press)"
   ]
  },
  {
   "cell_type": "markdown",
   "metadata": {},
   "source": [
    "Random Forest"
   ]
  },
  {
   "cell_type": "code",
   "execution_count": 147,
   "metadata": {},
   "outputs": [
    {
     "name": "stderr",
     "output_type": "stream",
     "text": [
      "C:\\Users\\xenon\\AppData\\Local\\Temp/ipykernel_13420/3887083611.py:4: DataConversionWarning: A column-vector y was passed when a 1d array was expected. Please change the shape of y to (n_samples,), for example using ravel().\n",
      "  classifier.fit(X, Y)\n"
     ]
    },
    {
     "name": "stdout",
     "output_type": "stream",
     "text": [
      "0.9966390687761292 0.9966185567010309 0.9948954388275976 0.9983476536682089\n"
     ]
    }
   ],
   "source": [
    "from sklearn.ensemble import RandomForestClassifier\n",
    "\n",
    "classifier = RandomForestClassifier()\n",
    "classifier.fit(X, Y)\n",
    "\n",
    "x = test[X1]\n",
    "y = test[y1]\n",
    "out = classifier.predict(x)\n",
    "\n",
    "randf_acc = accuracy_score(y,out)\n",
    "randf_recall = recall_score(y,out,pos_label='malicious')\n",
    "randf_f1 = f1_score(y,out,pos_label='malicious')\n",
    "randf_press = precision_score(y,out,pos_label='malicious')\n",
    "print(randf_acc, randf_f1, randf_recall, randf_press)\n",
    "\n",
    "\n",
    "# results = cross_validate(estimator=classifier, X=X, y=Y, scoring= scoring, cv=kfold)\n",
    "# for i,j in results.items():\n",
    "#   print(i,np.average(j))\n",
    "\n",
    "# 10s"
   ]
  },
  {
   "cell_type": "code",
   "execution_count": 144,
   "metadata": {},
   "outputs": [
    {
     "name": "stderr",
     "output_type": "stream",
     "text": [
      "C:\\Users\\xenon\\AppData\\Local\\Temp/ipykernel_13420/3475951073.py:1: DataConversionWarning: A column-vector y was passed when a 1d array was expected. Please change the shape of y to (n_samples,), for example using ravel().\n",
      "  classifier.fit(X, Y)\n"
     ]
    },
    {
     "name": "stdout",
     "output_type": "stream",
     "text": [
      "0.9977867038281827 0.9977524348622325 0.9965081476554706 0.998999833305551\n"
     ]
    }
   ],
   "source": [
    "classifier.fit(X, Y)\n",
    "\n",
    "x = test[X1]\n",
    "y = test[y1]\n",
    "out = classifier.predict(x)\n",
    "\n",
    "randf_acc = accuracy_score(y,out)\n",
    "randf_recall = recall_score(y,out,pos_label='malicious')\n",
    "randf_f1 = f1_score(y,out,pos_label='malicious')\n",
    "randf_press = precision_score(y,out,pos_label='malicious')\n",
    "print(randf_acc, randf_f1, randf_recall, randf_press)"
   ]
  },
  {
   "cell_type": "markdown",
   "metadata": {},
   "source": [
    "Ada Boost"
   ]
  },
  {
   "cell_type": "code",
   "execution_count": 157,
   "metadata": {},
   "outputs": [
    {
     "name": "stderr",
     "output_type": "stream",
     "text": [
      "E:\\Softwares\\Conda\\lib\\site-packages\\sklearn\\utils\\validation.py:993: DataConversionWarning: A column-vector y was passed when a 1d array was expected. Please change the shape of y to (n_samples, ), for example using ravel().\n",
      "  y = column_or_1d(y, warn=True)\n"
     ]
    },
    {
     "name": "stdout",
     "output_type": "stream",
     "text": [
      "0.9924583982293631 0.9924762839385018 0.9881126852304185 0.9968785937243305\n"
     ]
    }
   ],
   "source": [
    "from sklearn.ensemble import AdaBoostClassifier\n",
    "\n",
    "classifier = AdaBoostClassifier()\n",
    "classifier.fit(X, Y)\n",
    "\n",
    "x = test[X1]\n",
    "y = test[y1]\n",
    "out = classifier.predict(x)\n",
    "\n",
    "ada_acc = accuracy_score(y,out)\n",
    "ada_recall = recall_score(y,out,pos_label='malicious')\n",
    "ada_f1 = f1_score(y,out,pos_label='malicious')\n",
    "ada_press = precision_score(y,out,pos_label='malicious')\n",
    "print(ada_acc, ada_f1, ada_recall, ada_press)\n",
    "\n",
    "\n",
    "# results = cross_validate(estimator=classifier, X=X, y=Y, scoring= scoring, cv=kfold)\n",
    "# for i,j in results.items():\n",
    "#   print(i,np.average(j))\n",
    "\n",
    "# 20s\n"
   ]
  },
  {
   "cell_type": "code",
   "execution_count": 159,
   "metadata": {},
   "outputs": [
    {
     "name": "stderr",
     "output_type": "stream",
     "text": [
      "E:\\Softwares\\Conda\\lib\\site-packages\\sklearn\\utils\\validation.py:993: DataConversionWarning: A column-vector y was passed when a 1d array was expected. Please change the shape of y to (n_samples, ), for example using ravel().\n",
      "  y = column_or_1d(y, warn=True)\n"
     ]
    },
    {
     "name": "stdout",
     "output_type": "stream",
     "text": [
      "0.9903270759898353 0.9902139658318129 0.9857992073976222 0.9946684438520493\n"
     ]
    }
   ],
   "source": [
    "classifier.fit(X, Y)\n",
    "\n",
    "x = test[X1]\n",
    "y = test[y1]\n",
    "out = classifier.predict(x)\n",
    "\n",
    "ada_acc = accuracy_score(y,out)\n",
    "ada_recall = recall_score(y,out,pos_label='malicious')\n",
    "ada_f1 = f1_score(y,out,pos_label='malicious')\n",
    "ada_press = precision_score(y,out,pos_label='malicious')\n",
    "print(ada_acc, ada_f1, ada_recall, ada_press)"
   ]
  },
  {
   "cell_type": "markdown",
   "metadata": {},
   "source": [
    "Bagging Classifier"
   ]
  },
  {
   "cell_type": "code",
   "execution_count": 170,
   "metadata": {},
   "outputs": [
    {
     "name": "stderr",
     "output_type": "stream",
     "text": [
      "E:\\Softwares\\Conda\\lib\\site-packages\\sklearn\\ensemble\\_bagging.py:719: DataConversionWarning: A column-vector y was passed when a 1d array was expected. Please change the shape of y to (n_samples, ), for example using ravel().\n",
      "  y = column_or_1d(y, warn=True)\n"
     ]
    },
    {
     "name": "stdout",
     "output_type": "stream",
     "text": [
      "0.997376834166735 0.9973701512163051 0.9955701394585726 0.9991766836818706\n"
     ]
    }
   ],
   "source": [
    "from sklearn.ensemble import BaggingClassifier\n",
    "\n",
    "classifier = BaggingClassifier()\n",
    "classifier.fit(X, Y)\n",
    "\n",
    "x = test[X1]\n",
    "y = test[y1]\n",
    "out = classifier.predict(x)\n",
    "\n",
    "bag_acc = accuracy_score(y,out)\n",
    "bag_recall = recall_score(y,out,pos_label='malicious')\n",
    "bag_f1 = f1_score(y,out,pos_label='malicious')\n",
    "bag_press = precision_score(y,out,pos_label='malicious')\n",
    "print(bag_acc, bag_f1, bag_recall, bag_press)\n",
    "\n",
    "# results = cross_validate(estimator=classifier, X=X, y=Y, scoring= scoring, cv=kfold)\n",
    "# for i,j in results.items():\n",
    "#   print(i,np.average(j))\n",
    "\n",
    "# 4.5s"
   ]
  },
  {
   "cell_type": "code",
   "execution_count": 173,
   "metadata": {},
   "outputs": [
    {
     "name": "stderr",
     "output_type": "stream",
     "text": [
      "E:\\Softwares\\Conda\\lib\\site-packages\\sklearn\\ensemble\\_bagging.py:719: DataConversionWarning: A column-vector y was passed when a 1d array was expected. Please change the shape of y to (n_samples, ), for example using ravel().\n",
      "  y = column_or_1d(y, warn=True)\n"
     ]
    },
    {
     "name": "stdout",
     "output_type": "stream",
     "text": [
      "0.9972128863021559 0.9972062448644208 0.9955701394585726 0.9988477366255144\n"
     ]
    }
   ],
   "source": [
    "classifier.fit(X, Y)\n",
    "\n",
    "x = test[X1]\n",
    "y = test[y1]\n",
    "out = classifier.predict(x)\n",
    "\n",
    "bag_acc = accuracy_score(y,out)\n",
    "bag_recall = recall_score(y,out,pos_label='malicious')\n",
    "bag_f1 = f1_score(y,out,pos_label='malicious')\n",
    "bag_press = precision_score(y,out,pos_label='malicious')\n",
    "print(bag_acc, bag_f1, bag_recall, bag_press)"
   ]
  },
  {
   "cell_type": "markdown",
   "metadata": {},
   "source": [
    "Gradient Boosting"
   ]
  },
  {
   "cell_type": "code",
   "execution_count": 174,
   "metadata": {},
   "outputs": [
    {
     "name": "stderr",
     "output_type": "stream",
     "text": [
      "E:\\Softwares\\Conda\\lib\\site-packages\\sklearn\\ensemble\\_gb.py:494: DataConversionWarning: A column-vector y was passed when a 1d array was expected. Please change the shape of y to (n_samples, ), for example using ravel().\n",
      "  y = column_or_1d(y, warn=True)\n"
     ]
    },
    {
     "name": "stdout",
     "output_type": "stream",
     "text": [
      "0.9940159029428641 0.9939813669717207 0.9890073831009024 0.9990056347364932\n"
     ]
    }
   ],
   "source": [
    "from sklearn.ensemble import GradientBoostingClassifier\n",
    "\n",
    "classifier = GradientBoostingClassifier()\n",
    "classifier.fit(X, Y)\n",
    "\n",
    "x = test[X1]\n",
    "y = test[y1]\n",
    "out = classifier.predict(x)\n",
    "\n",
    "gradboost_acc = accuracy_score(y,out)\n",
    "gradboost_recall = recall_score(y,out,pos_label='malicious')\n",
    "gradboost_f1 = f1_score(y,out,pos_label='malicious')\n",
    "gradboost_press = precision_score(y,out,pos_label='malicious')\n",
    "print(gradboost_acc, gradboost_f1, gradboost_recall, gradboost_press)\n",
    "\n",
    "# results = cross_validate(estimator=classifier, X=X, y=Y, scoring= scoring, cv=kfold)\n",
    "# for i,j in results.items():\n",
    "#   print(i,np.average(j))\n",
    "\n",
    "# 30s"
   ]
  },
  {
   "cell_type": "code",
   "execution_count": 178,
   "metadata": {},
   "outputs": [
    {
     "name": "stderr",
     "output_type": "stream",
     "text": [
      "E:\\Softwares\\Conda\\lib\\site-packages\\sklearn\\ensemble\\_gb.py:494: DataConversionWarning: A column-vector y was passed when a 1d array was expected. Please change the shape of y to (n_samples, ), for example using ravel().\n",
      "  y = column_or_1d(y, warn=True)\n"
     ]
    },
    {
     "name": "stdout",
     "output_type": "stream",
     "text": [
      "0.9929502418231002 0.9928772569156865 0.9886194952993568 0.9971718516053901\n"
     ]
    }
   ],
   "source": [
    "classifier.fit(X, Y)\n",
    "\n",
    "x = test[X1]\n",
    "y = test[y1]\n",
    "out = classifier.predict(x)\n",
    "\n",
    "gradboost_acc = accuracy_score(y,out)\n",
    "gradboost_recall = recall_score(y,out,pos_label='malicious')\n",
    "gradboost_f1 = f1_score(y,out,pos_label='malicious')\n",
    "gradboost_press = precision_score(y,out,pos_label='malicious')\n",
    "print(gradboost_acc, gradboost_f1, gradboost_recall, gradboost_press)"
   ]
  },
  {
   "cell_type": "markdown",
   "metadata": {},
   "source": [
    "Extra Trees"
   ]
  },
  {
   "cell_type": "code",
   "execution_count": 203,
   "metadata": {},
   "outputs": [
    {
     "name": "stderr",
     "output_type": "stream",
     "text": [
      "C:\\Users\\xenon\\AppData\\Local\\Temp/ipykernel_13420/1392124319.py:4: DataConversionWarning: A column-vector y was passed when a 1d array was expected. Please change the shape of y to (n_samples,), for example using ravel().\n",
      "  classifier.fit(X, Y)\n"
     ]
    },
    {
     "name": "stdout",
     "output_type": "stream",
     "text": [
      "0.997376834166735 0.9973487986743994 0.9970183866158688 0.9976794298027515\n"
     ]
    }
   ],
   "source": [
    "from sklearn.ensemble import ExtraTreesClassifier\n",
    "\n",
    "classifier = ExtraTreesClassifier()\n",
    "classifier.fit(X, Y)\n",
    "\n",
    "x = test[X1]\n",
    "y = test[y1]\n",
    "out = classifier.predict(x)\n",
    "\n",
    "extratree_acc = accuracy_score(y,out)\n",
    "extratree_recall = recall_score(y,out,pos_label='malicious')\n",
    "extratree_f1 = f1_score(y,out,pos_label='malicious')\n",
    "extratree_press = precision_score(y,out,pos_label='malicious')\n",
    "print(extratree_acc, extratree_f1, extratree_recall, extratree_press)\n",
    "\n",
    "# results = cross_validate(estimator=classifier, X=X, y=Y, scoring= scoring, cv=kfold)\n",
    "# for i,j in results.items():\n",
    "#   print(i,np.average(j))\n",
    "\n",
    "# 12s"
   ]
  },
  {
   "cell_type": "code",
   "execution_count": 197,
   "metadata": {},
   "outputs": [
    {
     "name": "stderr",
     "output_type": "stream",
     "text": [
      "C:\\Users\\xenon\\AppData\\Local\\Temp/ipykernel_13420/3425389059.py:1: DataConversionWarning: A column-vector y was passed when a 1d array was expected. Please change the shape of y to (n_samples,), for example using ravel().\n",
      "  classifier.fit(X, Y)\n"
     ]
    },
    {
     "name": "stdout",
     "output_type": "stream",
     "text": [
      "0.9978686777604722 0.9978455419290686 0.9973496769918834 0.998341900182391\n"
     ]
    }
   ],
   "source": [
    "classifier.fit(X, Y)\n",
    "\n",
    "x = test[X1]\n",
    "y = test[y1]\n",
    "out = classifier.predict(x)\n",
    "\n",
    "extratree_acc = accuracy_score(y,out)\n",
    "extratree_recall = recall_score(y,out,pos_label='malicious')\n",
    "extratree_f1 = f1_score(y,out,pos_label='malicious')\n",
    "extratree_press = precision_score(y,out,pos_label='malicious')\n",
    "print(extratree_acc, extratree_f1, extratree_recall, extratree_press)"
   ]
  },
  {
   "cell_type": "markdown",
   "metadata": {},
   "source": [
    "Hist Gradient Boosting"
   ]
  },
  {
   "cell_type": "code",
   "execution_count": 213,
   "metadata": {},
   "outputs": [
    {
     "name": "stderr",
     "output_type": "stream",
     "text": [
      "E:\\Softwares\\Conda\\lib\\site-packages\\sklearn\\utils\\validation.py:993: DataConversionWarning: A column-vector y was passed when a 1d array was expected. Please change the shape of y to (n_samples, ), for example using ravel().\n",
      "  y = column_or_1d(y, warn=True)\n"
     ]
    },
    {
     "name": "stdout",
     "output_type": "stream",
     "text": [
      "0.9974588080990245 0.9974301583354059 0.996521451051847 0.9983405243942914\n"
     ]
    }
   ],
   "source": [
    "from sklearn.ensemble import HistGradientBoostingClassifier\n",
    "\n",
    "classifier = HistGradientBoostingClassifier()\n",
    "classifier.fit(X, Y)\n",
    "\n",
    "x = test[X1]\n",
    "y = test[y1]\n",
    "out = classifier.predict(x)\n",
    "\n",
    "histgrad_acc = accuracy_score(y,out)\n",
    "histgrad_recall = recall_score(y,out,pos_label='malicious')\n",
    "histgrad_f1 = f1_score(y,out,pos_label='malicious')\n",
    "histgrad_press = precision_score(y,out,pos_label='malicious')\n",
    "print(histgrad_acc, histgrad_f1, histgrad_recall, histgrad_press)\n",
    "\n",
    "# results = cross_validate(estimator=classifier, X=X, y=Y, scoring= scoring, cv=kfold)\n",
    "# for i,j in results.items():\n",
    "#   print(i,np.average(j))\n",
    "\n",
    "# 6s"
   ]
  },
  {
   "cell_type": "code",
   "execution_count": 210,
   "metadata": {},
   "outputs": [
    {
     "name": "stderr",
     "output_type": "stream",
     "text": [
      "E:\\Softwares\\Conda\\lib\\site-packages\\sklearn\\utils\\validation.py:993: DataConversionWarning: A column-vector y was passed when a 1d array was expected. Please change the shape of y to (n_samples, ), for example using ravel().\n",
      "  y = column_or_1d(y, warn=True)\n"
     ]
    },
    {
     "name": "stdout",
     "output_type": "stream",
     "text": [
      "0.9977047298958931 0.9976786602553473 0.9966870962398542 0.9986721991701245\n"
     ]
    }
   ],
   "source": [
    "classifier.fit(X, Y)\n",
    "\n",
    "x = test[X1]\n",
    "y = test[y1]\n",
    "out = classifier.predict(x)\n",
    "\n",
    "histgrad_acc = accuracy_score(y,out)\n",
    "histgrad_recall = recall_score(y,out,pos_label='malicious')\n",
    "histgrad_f1 = f1_score(y,out,pos_label='malicious')\n",
    "histgrad_press = precision_score(y,out,pos_label='malicious')\n",
    "print(histgrad_acc, histgrad_f1, histgrad_recall, histgrad_press)"
   ]
  },
  {
   "cell_type": "code",
   "execution_count": 10,
   "metadata": {},
   "outputs": [],
   "source": [
    "data = columns[X1+y1]\n",
    "\n",
    "data = shuffle(data, random_state=int(time.time()))\n",
    "data = shuffle(data, random_state=int(time.time()))\n",
    "\n",
    "train, test = train_test_split(data,test_size=0.1)\n",
    "X = train[X1]\n",
    "Y = train[y1]"
   ]
  },
  {
   "cell_type": "markdown",
   "metadata": {},
   "source": [
    "SVM"
   ]
  },
  {
   "cell_type": "code",
   "execution_count": 9,
   "metadata": {},
   "outputs": [
    {
     "name": "stderr",
     "output_type": "stream",
     "text": [
      "E:\\Softwares\\Conda\\lib\\site-packages\\sklearn\\utils\\validation.py:993: DataConversionWarning: A column-vector y was passed when a 1d array was expected. Please change the shape of y to (n_samples, ), for example using ravel().\n",
      "  y = column_or_1d(y, warn=True)\n"
     ]
    },
    {
     "name": "stdout",
     "output_type": "stream",
     "text": [
      "0.9683580621362406 0.9682147562582345 0.9459372485921158 0.9915668746837578\n"
     ]
    }
   ],
   "source": [
    "from sklearn import svm\n",
    "\n",
    "classifier = svm.SVC()\n",
    "classifier.fit(X, Y)\n",
    "\n",
    "x = test[X1]\n",
    "y = test[y1]\n",
    "out = classifier.predict(x)\n",
    "\n",
    "svm_acc = accuracy_score(y,out)\n",
    "svm_recall = recall_score(y,out,pos_label='malicious')\n",
    "svm_f1 = f1_score(y,out,pos_label='malicious')\n",
    "svm_press = precision_score(y,out,pos_label='malicious')\n",
    "print(svm_acc, svm_f1, svm_recall, svm_press)\n",
    "\n",
    "# results = cross_validate(estimator=classifier, X=X, y=Y, scoring= scoring, cv=kfold)\n",
    "# for i,j in results.items():\n",
    "#   print(i,np.average(j))\n",
    "\n",
    "# 30m"
   ]
  },
  {
   "cell_type": "code",
   "execution_count": 11,
   "metadata": {},
   "outputs": [
    {
     "name": "stderr",
     "output_type": "stream",
     "text": [
      "E:\\Softwares\\Conda\\lib\\site-packages\\sklearn\\utils\\validation.py:993: DataConversionWarning: A column-vector y was passed when a 1d array was expected. Please change the shape of y to (n_samples, ), for example using ravel().\n",
      "  y = column_or_1d(y, warn=True)\n"
     ]
    },
    {
     "name": "stdout",
     "output_type": "stream",
     "text": [
      "0.9686039839331093 0.9680647044109063 0.946364525595044 0.9907834101382489\n"
     ]
    }
   ],
   "source": [
    "classifier.fit(X, Y)\n",
    "\n",
    "x = test[X1]\n",
    "y = test[y1]\n",
    "out = classifier.predict(x)\n",
    "\n",
    "svm_acc = accuracy_score(y,out)\n",
    "svm_recall = recall_score(y,out,pos_label='malicious')\n",
    "svm_f1 = f1_score(y,out,pos_label='malicious')\n",
    "svm_press = precision_score(y,out,pos_label='malicious')\n",
    "print(svm_acc, svm_f1, svm_recall, svm_press)"
   ]
  },
  {
   "cell_type": "markdown",
   "metadata": {},
   "source": [
    "Naive Bayes"
   ]
  },
  {
   "cell_type": "code",
   "execution_count": 5,
   "metadata": {},
   "outputs": [
    {
     "name": "stderr",
     "output_type": "stream",
     "text": [
      "E:\\Softwares\\Conda\\lib\\site-packages\\sklearn\\utils\\validation.py:993: DataConversionWarning: A column-vector y was passed when a 1d array was expected. Please change the shape of y to (n_samples, ), for example using ravel().\n",
      "  y = column_or_1d(y, warn=True)\n"
     ]
    },
    {
     "name": "stdout",
     "output_type": "stream",
     "text": [
      "0.7814574965161079 0.743801652892562 0.6226870474658085 0.9234073013600572\n"
     ]
    }
   ],
   "source": [
    "from sklearn import naive_bayes\n",
    "\n",
    "classifier = naive_bayes.GaussianNB()\n",
    "classifier.fit(X, Y)\n",
    "\n",
    "x = test[X1]\n",
    "y = test[y1]\n",
    "out = classifier.predict(x)\n",
    "\n",
    "nb1_acc = accuracy_score(y,out)\n",
    "nb1_recall = recall_score(y,out,pos_label='malicious')\n",
    "nb1_f1 = f1_score(y,out,pos_label='malicious')\n",
    "nb1_press = precision_score(y,out,pos_label='malicious')\n",
    "print(nb1_acc, nb1_f1, nb1_recall, nb1_press)\n",
    "\n",
    "# results = cross_validate(estimator=classifier, X=X, y=Y, scoring= scoring, cv=kfold)\n",
    "# for i,j in results.items():\n",
    "#   print(i,np.average(j))"
   ]
  },
  {
   "cell_type": "code",
   "execution_count": 8,
   "metadata": {},
   "outputs": [
    {
     "name": "stderr",
     "output_type": "stream",
     "text": [
      "E:\\Softwares\\Conda\\lib\\site-packages\\sklearn\\utils\\validation.py:993: DataConversionWarning: A column-vector y was passed when a 1d array was expected. Please change the shape of y to (n_samples, ), for example using ravel().\n",
      "  y = column_or_1d(y, warn=True)\n"
     ]
    },
    {
     "name": "stdout",
     "output_type": "stream",
     "text": [
      "0.8982703500286908 0.902521404445841 0.9243765084473049 0.8816758747697975\n"
     ]
    }
   ],
   "source": [
    "classifier = naive_bayes.BernoulliNB(binarize=2.0)\n",
    "classifier.fit(X, Y)\n",
    "\n",
    "x = test[X1]\n",
    "y = test[y1]\n",
    "out = classifier.predict(x)\n",
    "\n",
    "nb2_acc = accuracy_score(y,out)\n",
    "nb2_recall = recall_score(y,out,pos_label='malicious')\n",
    "nb2_f1 = f1_score(y,out,pos_label='malicious')\n",
    "nb2_press = precision_score(y,out,pos_label='malicious')\n",
    "print(nb2_acc, nb2_f1, nb2_recall, nb2_press)\n",
    "\n",
    "# results = cross_validate(estimator=classifier, X=X, y=Y, scoring= scoring, cv=kfold)\n",
    "# for i,j in results.items():\n",
    "#   print(i,np.average(j))"
   ]
  },
  {
   "cell_type": "code",
   "execution_count": 33,
   "metadata": {},
   "outputs": [],
   "source": [
    "metric = [['KNN', knn_acc, knn_f1, knn_recall],\n",
    "          ['DT1', dt1_acc, dt1_f1, dt1_recall],\n",
    "          ['DT2', dt2_acc, dt2_f1, dt2_recall],\n",
    "          ['RandF', randf_acc, randf_f1, randf_recall],\n",
    "          ['AdaB', ada_acc, ada_f1, ada_recall],\n",
    "          ['Bag', bag_acc, bag_f1, bag_recall],\n",
    "          ['Grad', gradboost_acc, gradboost_f1, gradboost_recall],\n",
    "          ['ExtraT', extratree_acc, extratree_f1, extratree_recall],\n",
    "          ['HistG', histgrad_acc, histgrad_f1, histgrad_recall],\n",
    "          ['Svm', svm_acc, svm_f1, svm_recall],\n",
    "          ['Nb1', nb1_acc, nb1_f1, nb1_recall],\n",
    "          ['Nb2', nb2_acc, nb2_f1, nb2_recall]]"
   ]
  },
  {
   "cell_type": "code",
   "execution_count": 34,
   "metadata": {},
   "outputs": [
    {
     "name": "stdout",
     "output_type": "stream",
     "text": [
      "Name\tAccuracy\tF1 Score\tRecall\n",
      "ExtraT\t99.779%\t\t99.777%\t\t99.654%\n",
      "HistG\t99.770%\t\t99.769%\t\t99.588%\n",
      "RandF\t99.762%\t\t99.761%\t\t99.605%\n",
      "Bag\t99.688%\t\t99.686%\t\t99.489%\n",
      "DT2\t99.680%\t\t99.678%\t\t99.588%\n",
      "DT1\t99.639%\t\t99.637%\t\t99.522%\n",
      "Grad\t99.492%\t\t99.488%\t\t99.160%\n",
      "AdaB\t99.246%\t\t99.238%\t\t98.715%\n",
      "KNN\t99.147%\t\t99.139%\t\t98.600%\n",
      "Svm\t97.901%\t\t97.867%\t\t96.755%\n",
      "Nb2\t89.827%\t\t89.981%\t\t91.812%\n",
      "Nb1\t78.416%\t\t74.310%\t\t62.735%\n"
     ]
    }
   ],
   "source": [
    "metric_acc = sorted(metric, key=lambda x:x[1], reverse=True)\n",
    "\n",
    "print(\"Name\\tAccuracy\\tF1 Score\\tRecall\")\n",
    "for model in metric_acc:\n",
    "  print(\"{}\\t{:.3f}%\\t\\t{:.3f}%\\t\\t{:.3f}%\".format(model[0],model[1]*100, model[2]*100, model[3]*100))"
   ]
  },
  {
   "cell_type": "code",
   "execution_count": 35,
   "metadata": {},
   "outputs": [
    {
     "name": "stdout",
     "output_type": "stream",
     "text": [
      "Name\tAccuracy\tF1 Score\tRecall\n",
      "ExtraT\t99.779%\t\t99.777%\t\t99.654%\n",
      "HistG\t99.770%\t\t99.769%\t\t99.588%\n",
      "RandF\t99.762%\t\t99.761%\t\t99.605%\n",
      "Bag\t99.688%\t\t99.686%\t\t99.489%\n",
      "DT2\t99.680%\t\t99.678%\t\t99.588%\n",
      "DT1\t99.639%\t\t99.637%\t\t99.522%\n",
      "Grad\t99.492%\t\t99.488%\t\t99.160%\n",
      "AdaB\t99.246%\t\t99.238%\t\t98.715%\n",
      "KNN\t99.147%\t\t99.139%\t\t98.600%\n",
      "Svm\t97.901%\t\t97.867%\t\t96.755%\n",
      "Nb2\t89.827%\t\t89.981%\t\t91.812%\n",
      "Nb1\t78.416%\t\t74.310%\t\t62.735%\n"
     ]
    }
   ],
   "source": [
    "metric_f1 = sorted(metric, key=lambda x:x[2], reverse=True)\n",
    "\n",
    "print(\"Name\\tAccuracy\\tF1 Score\\tRecall\")\n",
    "for model in metric_f1:\n",
    "  print(\"{}\\t{:.3f}%\\t\\t{:.3f}%\\t\\t{:.3f}%\".format(model[0],model[1]*100, model[2]*100, model[3]*100))"
   ]
  },
  {
   "cell_type": "code",
   "execution_count": 36,
   "metadata": {},
   "outputs": [
    {
     "name": "stdout",
     "output_type": "stream",
     "text": [
      "Name\tAccuracy\tF1 Score\tRecall\n",
      "ExtraT\t99.779%\t\t99.777%\t\t99.654%\n",
      "RandF\t99.762%\t\t99.761%\t\t99.605%\n",
      "DT2\t99.680%\t\t99.678%\t\t99.588%\n",
      "HistG\t99.770%\t\t99.769%\t\t99.588%\n",
      "DT1\t99.639%\t\t99.637%\t\t99.522%\n",
      "Bag\t99.688%\t\t99.686%\t\t99.489%\n",
      "Grad\t99.492%\t\t99.488%\t\t99.160%\n",
      "AdaB\t99.246%\t\t99.238%\t\t98.715%\n",
      "KNN\t99.147%\t\t99.139%\t\t98.600%\n",
      "Svm\t97.901%\t\t97.867%\t\t96.755%\n",
      "Nb2\t89.827%\t\t89.981%\t\t91.812%\n",
      "Nb1\t78.416%\t\t74.310%\t\t62.735%\n"
     ]
    }
   ],
   "source": [
    "metric_recall = sorted(metric, key=lambda x:x[3], reverse=True)\n",
    "\n",
    "print(\"Name\\tAccuracy\\tF1 Score\\tRecall\")\n",
    "for model in metric_recall:\n",
    "  print(\"{}\\t{:.3f}%\\t\\t{:.3f}%\\t\\t{:.3f}%\".format(model[0],model[1]*100, model[2]*100, model[3]*100))"
   ]
  }
 ],
 "metadata": {
  "interpreter": {
   "hash": "f3b730a9d7272a4f898f107daded6fab7115ce50b35b786d03fa41c7f88ce0f1"
  },
  "kernelspec": {
   "display_name": "Python 3.8.8 64-bit ('base': conda)",
   "language": "python",
   "name": "python3"
  },
  "language_info": {
   "codemirror_mode": {
    "name": "ipython",
    "version": 3
   },
   "file_extension": ".py",
   "mimetype": "text/x-python",
   "name": "python",
   "nbconvert_exporter": "python",
   "pygments_lexer": "ipython3",
   "version": "3.8.8"
  },
  "orig_nbformat": 4
 },
 "nbformat": 4,
 "nbformat_minor": 2
}
