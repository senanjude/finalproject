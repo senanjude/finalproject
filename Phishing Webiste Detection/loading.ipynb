{
 "cells": [
  {
   "cell_type": "code",
   "execution_count": 1,
   "metadata": {},
   "outputs": [],
   "source": [
    "import pickle\n",
    "\n",
    "knn_model = pickle.load(open('models/knn_model.pickle', 'rb'))\n",
    "dt1_model = pickle.load(open('models/dt1_model.pickle', 'rb'))\n",
    "dt2_model = pickle.load(open('models/dt2_model.pickle', 'rb'))\n",
    "svm_model = pickle.load(open('models/svm_model.pickle', 'rb'))\n",
    "randf_model = pickle.load(open('models/randf_model.pickle', 'rb'))\n",
    "nb1_model = pickle.load(open('models/nb1_model.pickle', 'rb'))\n",
    "nb2_model = pickle.load(open('models/nb2_model.pickle', 'rb'))"
   ]
  },
  {
   "cell_type": "code",
   "execution_count": 4,
   "metadata": {},
   "outputs": [],
   "source": [
    "import pandas as pd\n",
    "from sklearn import preprocessing\n",
    "from sklearn.metrics import accuracy_score, recall_score, f1_score\n",
    "from sklearn.utils import shuffle\n",
    "from sklearn.model_selection import train_test_split\n",
    "\n",
    "\n",
    "columns = pd.read_csv('latest.csv')\n",
    "\n",
    "necessary_num = ['url_length', 'max_token_length', 'domain_length', 'no_of_dots', 'no_of_qms', 'no_of_fs','no_of_digits', 'no_of_specials','num_tempting', \n",
    "                 'no_of_tokens', 'no_of_top_lvl_domains','no_of_schar_domain', 'no_of_schar_path', 'no_of_url_paths', 'no_of_punctuations', 'no_of_hypen',\n",
    "                 'no_of_eqs', 'no_of_us', 'no_of_repetition', 'len_shortest_token', 'avg_len_token','len_query','ratio_url_path','ratio_vowel_consonant',\n",
    "                 'ratio_digits_letters', 'std_token_len']\n",
    "necessary_cat = ['has_php','has_htm', 'has_html', 'has_net','has_shorten']\n",
    "\n",
    " \n",
    "# label_encoder object knows how to understand word labels.\n",
    "label_encoders = [preprocessing.LabelEncoder() for i in range(len(necessary_cat))]\n",
    "\n",
    "for i,cat_val in enumerate(necessary_cat):\n",
    "    columns[cat_val] = label_encoders[i].fit_transform(columns[cat_val])\n",
    "\n",
    "\n",
    "data_final_vars=columns.columns.values.tolist()\n",
    "y1=['label']\n",
    "X1= ['has_php','has_htm', 'has_html', 'has_net', 'has_shorten', 'url_length', 'domain_length', 'no_of_fs', 'no_of_specials',\n",
    "     'no_of_schar_domain', 'no_of_schar_path', 'no_of_url_paths', 'no_of_punctuations', 'no_of_hypen', 'no_of_repetition', 'len_shortest_token',\n",
    "     'avg_len_token', 'ratio_vowel_consonant', 'std_token_len']\n",
    "\n",
    "data = columns[X1+y1]\n",
    "\n",
    "data = shuffle(data)\n",
    "data = shuffle(data)\n",
    "\n",
    "train, test = train_test_split(data,test_size=0.1)\n",
    "\n",
    "x = test[X1]\n",
    "y = test[y1]"
   ]
  },
  {
   "cell_type": "code",
   "execution_count": 5,
   "metadata": {},
   "outputs": [
    {
     "name": "stdout",
     "output_type": "stream",
     "text": [
      "0.998770391015657 0.9987750102082483 0.9977157774514602\n"
     ]
    }
   ],
   "source": [
    "out = knn_model.predict(x)\n",
    "\n",
    "knn_acc = accuracy_score(y,out)\n",
    "knn_recall = recall_score(y,out,pos_label='malicious')\n",
    "knn_f1 = f1_score(y,out,pos_label='malicious')\n",
    "print(knn_acc, knn_f1, knn_recall)"
   ]
  },
  {
   "cell_type": "code",
   "execution_count": 8,
   "metadata": {},
   "outputs": [
    {
     "name": "stdout",
     "output_type": "stream",
     "text": [
      "0.9992622346093942 0.999265605875153 0.9990210474791973\n"
     ]
    }
   ],
   "source": [
    "out = dt1_model.predict(x)\n",
    "\n",
    "dt1_acc = accuracy_score(y,out)\n",
    "dt1_recall = recall_score(y,out,pos_label='malicious')\n",
    "dt1_f1 = f1_score(y,out,pos_label='malicious')\n",
    "print(dt1_acc, dt1_f1, dt1_recall)"
   ]
  },
  {
   "cell_type": "code",
   "execution_count": 7,
   "metadata": {},
   "outputs": [
    {
     "name": "stdout",
     "output_type": "stream",
     "text": [
      "0.9994261824739733 0.9994288045695635 0.9991842062326644\n"
     ]
    }
   ],
   "source": [
    "out = dt2_model.predict(x)\n",
    "\n",
    "dt2_acc = accuracy_score(y,out)\n",
    "dt2_recall = recall_score(y,out,pos_label='malicious')\n",
    "dt2_f1 = f1_score(y,out,pos_label='malicious')\n",
    "print(dt2_acc, dt2_f1, dt2_recall)"
   ]
  },
  {
   "cell_type": "code",
   "execution_count": 6,
   "metadata": {},
   "outputs": [
    {
     "name": "stdout",
     "output_type": "stream",
     "text": [
      "0.9995901303385524 0.9995919366685709 0.9991842062326644\n"
     ]
    }
   ],
   "source": [
    "out = randf_model.predict(x)\n",
    "\n",
    "randf_acc = accuracy_score(y,out)\n",
    "randf_recall = recall_score(y,out,pos_label='malicious')\n",
    "randf_f1 = f1_score(y,out,pos_label='malicious')\n",
    "print(randf_acc, randf_f1, randf_recall)"
   ]
  },
  {
   "cell_type": "code",
   "execution_count": null,
   "metadata": {},
   "outputs": [],
   "source": [
    "out = svm_model.predict(x)\n",
    "\n",
    "svm_acc = accuracy_score(y,out)\n",
    "svm_recall = recall_score(y,out,pos_label='malicious')\n",
    "svm_f1 = f1_score(y,out,pos_label='malicious')\n",
    "print(svm_acc, svm_f1, svm_recall)"
   ]
  },
  {
   "cell_type": "code",
   "execution_count": null,
   "metadata": {},
   "outputs": [],
   "source": [
    "out = nb1_model.predict(x)\n",
    "\n",
    "nb1_acc = accuracy_score(y,out)\n",
    "nb1_recall = recall_score(y,out,pos_label='malicious')\n",
    "nb1_f1 = f1_score(y,out,pos_label='malicious')\n",
    "print(nb1_acc, nb1_f1, nb1_recall)"
   ]
  },
  {
   "cell_type": "code",
   "execution_count": 13,
   "metadata": {},
   "outputs": [
    {
     "name": "stdout",
     "output_type": "stream",
     "text": [
      "0.8961390277891631 0.8993725677070923 0.9238048621308533\n"
     ]
    }
   ],
   "source": [
    "out = nb2_model.predict(x)\n",
    "\n",
    "nb2_acc = accuracy_score(y,out)\n",
    "nb2_recall = recall_score(y,out,pos_label='malicious')\n",
    "nb2_f1 = f1_score(y,out,pos_label='malicious')\n",
    "print(nb2_acc, nb2_f1, nb2_recall)"
   ]
  }
 ],
 "metadata": {
  "interpreter": {
   "hash": "f3b730a9d7272a4f898f107daded6fab7115ce50b35b786d03fa41c7f88ce0f1"
  },
  "kernelspec": {
   "display_name": "Python 3.8.8 ('base')",
   "language": "python",
   "name": "python3"
  },
  "language_info": {
   "codemirror_mode": {
    "name": "ipython",
    "version": 3
   },
   "file_extension": ".py",
   "mimetype": "text/x-python",
   "name": "python",
   "nbconvert_exporter": "python",
   "pygments_lexer": "ipython3",
   "version": "3.8.8"
  },
  "orig_nbformat": 4
 },
 "nbformat": 4,
 "nbformat_minor": 2
}
